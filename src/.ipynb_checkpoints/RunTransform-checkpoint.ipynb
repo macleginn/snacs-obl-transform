{
 "cells": [
  {
   "cell_type": "code",
   "execution_count": 1,
   "metadata": {},
   "outputs": [],
   "source": [
    "import os\n",
    "import json\n",
    "from typing import Dict, List, Tuple\n",
    "import UDLib as udlib"
   ]
  },
  {
   "cell_type": "code",
   "execution_count": 7,
   "metadata": {},
   "outputs": [],
   "source": [
    "CONLLU_PATH = '../conllu'\n",
    "SNACS_PATH = '../snacs-output/ewt'"
   ]
  },
  {
   "cell_type": "code",
   "execution_count": 4,
   "metadata": {},
   "outputs": [],
   "source": [
    "def get_annotations(path: str) -> List[Dict[str, List[str]]]:\n",
    "    result = []\n",
    "    with open(path, 'r', encoding='utf-8') as inp:\n",
    "        for line in inp:\n",
    "            result.append(json.loads(line))\n",
    "    return result"
   ]
  },
  {
   "cell_type": "code",
   "execution_count": 12,
   "metadata": {},
   "outputs": [],
   "source": [
    "def get_obliques_with_types(\n",
    "        t: udlib.UDTree,\n",
    "        annotation: Dict[str, List[str]]) -> List[Tuple[str]]:\n",
    "    assert len(t.keys) == len(annotation['tokens'])\n",
    "    tag_dict = dict(zip(t.keys, annotation['tags']))\n",
    "    result = []\n",
    "    # DFS on the tree. Get the real root\n",
    "    for edge in t.graph['0']:\n",
    "        root = edge.head\n",
    "    stack = [root]\n",
    "    while stack:\n",
    "        current_node = stack.pop()\n",
    "        if t.nodes[current_node].DEPREL == 'obl':\n",
    "            # Find the first case child and retrieve its annotation\n",
    "            for edge in t.graph[current_node]:\n",
    "                if edge.directionality == 'down':\n",
    "                    child = edge.head\n",
    "                    if t.nodes[child].DEPREL == 'case':\n",
    "                        result.append((t.nodes[child].FORM + ' ' + t.nodes[current_node].FORM,\n",
    "                                       tag_dict[child]))\n",
    "                        break\n",
    "            else:\n",
    "                result.append((t.nodes[current_node].FORM, 'caseless obl'))\n",
    "        for edge in t.graph[current_node]:\n",
    "            if edge.directionality == 'down':\n",
    "                stack.append(edge.head)\n",
    "    return result"
   ]
  },
  {
   "cell_type": "code",
   "execution_count": 8,
   "metadata": {},
   "outputs": [],
   "source": [
    "dev_trees = udlib.conllu2trees(os.path.join(CONLLU_PATH, 'en_ewt-ud-dev.conllu'))\n",
    "dev_annotations = get_annotations(os.path.join(SNACS_PATH, 'dev'))"
   ]
  },
  {
   "cell_type": "code",
   "execution_count": 13,
   "metadata": {},
   "outputs": [],
   "source": [
    "get_obliques_with_types(dev_trees[0], dev_annotations[0])"
   ]
  }
 ],
 "metadata": {
  "kernelspec": {
   "display_name": "Python 3",
   "language": "python",
   "name": "python3"
  },
  "language_info": {
   "codemirror_mode": {
    "name": "ipython",
    "version": 3
   },
   "file_extension": ".py",
   "mimetype": "text/x-python",
   "name": "python",
   "nbconvert_exporter": "python",
   "pygments_lexer": "ipython3",
   "version": "3.7.3"
  }
 },
 "nbformat": 4,
 "nbformat_minor": 4
}
